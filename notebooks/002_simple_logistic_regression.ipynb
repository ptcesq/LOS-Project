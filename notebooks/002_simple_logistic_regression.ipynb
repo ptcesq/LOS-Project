{
 "cells": [
  {
   "cell_type": "markdown",
   "id": "1bce8bf6",
   "metadata": {},
   "source": [
    "# Simple Logistic Regression"
   ]
  },
  {
   "cell_type": "code",
   "execution_count": 1,
   "id": "741f6a08",
   "metadata": {},
   "outputs": [],
   "source": [
    "import pandas as pd\n",
    "\n",
    "from sklearn.linear_model import LogisticRegression\n",
    "from sklearn.model_selection import train_test_split\n",
    "from sklearn.metrics import accuracy_score"
   ]
  },
  {
   "cell_type": "code",
   "execution_count": 2,
   "id": "9c14631c",
   "metadata": {},
   "outputs": [
    {
     "data": {
      "application/vnd.microsoft.datawrangler.viewer.v0+json": {
       "columns": [
        {
         "name": "index",
         "rawType": "int64",
         "type": "integer"
        },
        {
         "name": "case_id",
         "rawType": "int64",
         "type": "integer"
        },
        {
         "name": "Hospital_code",
         "rawType": "category",
         "type": "unknown"
        },
        {
         "name": "Hospital_type_code",
         "rawType": "object",
         "type": "string"
        },
        {
         "name": "City_Code_Hospital",
         "rawType": "category",
         "type": "unknown"
        },
        {
         "name": "Hospital_region_code",
         "rawType": "object",
         "type": "string"
        },
        {
         "name": "Available Extra Rooms in Hospital",
         "rawType": "int64",
         "type": "integer"
        },
        {
         "name": "Department",
         "rawType": "object",
         "type": "string"
        },
        {
         "name": "Ward_Type",
         "rawType": "category",
         "type": "unknown"
        },
        {
         "name": "Ward_Facility_Code",
         "rawType": "object",
         "type": "string"
        },
        {
         "name": "Bed Grade",
         "rawType": "category",
         "type": "unknown"
        },
        {
         "name": "patientid",
         "rawType": "int64",
         "type": "integer"
        },
        {
         "name": "City_Code_Patient",
         "rawType": "float64",
         "type": "float"
        },
        {
         "name": "Type of Admission",
         "rawType": "category",
         "type": "unknown"
        },
        {
         "name": "Severity of Illness",
         "rawType": "category",
         "type": "unknown"
        },
        {
         "name": "Visitors with Patient",
         "rawType": "int64",
         "type": "integer"
        },
        {
         "name": "Age",
         "rawType": "category",
         "type": "unknown"
        },
        {
         "name": "Admission_Deposit",
         "rawType": "int32",
         "type": "integer"
        },
        {
         "name": "Stay",
         "rawType": "object",
         "type": "string"
        },
        {
         "name": "LOS",
         "rawType": "category",
         "type": "unknown"
        }
       ],
       "ref": "b9c75716-5a95-4db8-bb18-82dad64ff9ca",
       "rows": [
        [
         "0",
         "1",
         "8",
         "c",
         "3",
         "Z",
         "3",
         "radiotherapy",
         "R",
         "F",
         "2.0",
         "31397",
         "7.0",
         "Emergency",
         "Extreme",
         "2",
         "51-60",
         "4911",
         "0-10",
         "short"
        ],
        [
         "1",
         "2",
         "2",
         "c",
         "5",
         "Z",
         "2",
         "radiotherapy",
         "S",
         "F",
         "2.0",
         "31397",
         "7.0",
         "Trauma",
         "Extreme",
         "2",
         "51-60",
         "5954",
         "41-50",
         "long"
        ],
        [
         "2",
         "3",
         "10",
         "e",
         "1",
         "X",
         "2",
         "anesthesia",
         "S",
         "E",
         "2.0",
         "31397",
         "7.0",
         "Trauma",
         "Extreme",
         "2",
         "51-60",
         "4745",
         "31-40",
         "medium"
        ],
        [
         "3",
         "4",
         "26",
         "b",
         "2",
         "Y",
         "2",
         "radiotherapy",
         "R",
         "D",
         "2.0",
         "31397",
         "7.0",
         "Trauma",
         "Extreme",
         "2",
         "51-60",
         "7272",
         "41-50",
         "long"
        ],
        [
         "4",
         "5",
         "26",
         "b",
         "2",
         "Y",
         "2",
         "radiotherapy",
         "S",
         "D",
         "2.0",
         "31397",
         "7.0",
         "Trauma",
         "Extreme",
         "2",
         "51-60",
         "5558",
         "41-50",
         "long"
        ]
       ],
       "shape": {
        "columns": 19,
        "rows": 5
       }
      },
      "text/html": [
       "<div>\n",
       "<style scoped>\n",
       "    .dataframe tbody tr th:only-of-type {\n",
       "        vertical-align: middle;\n",
       "    }\n",
       "\n",
       "    .dataframe tbody tr th {\n",
       "        vertical-align: top;\n",
       "    }\n",
       "\n",
       "    .dataframe thead th {\n",
       "        text-align: right;\n",
       "    }\n",
       "</style>\n",
       "<table border=\"1\" class=\"dataframe\">\n",
       "  <thead>\n",
       "    <tr style=\"text-align: right;\">\n",
       "      <th></th>\n",
       "      <th>case_id</th>\n",
       "      <th>Hospital_code</th>\n",
       "      <th>Hospital_type_code</th>\n",
       "      <th>City_Code_Hospital</th>\n",
       "      <th>Hospital_region_code</th>\n",
       "      <th>Available Extra Rooms in Hospital</th>\n",
       "      <th>Department</th>\n",
       "      <th>Ward_Type</th>\n",
       "      <th>Ward_Facility_Code</th>\n",
       "      <th>Bed Grade</th>\n",
       "      <th>patientid</th>\n",
       "      <th>City_Code_Patient</th>\n",
       "      <th>Type of Admission</th>\n",
       "      <th>Severity of Illness</th>\n",
       "      <th>Visitors with Patient</th>\n",
       "      <th>Age</th>\n",
       "      <th>Admission_Deposit</th>\n",
       "      <th>Stay</th>\n",
       "      <th>LOS</th>\n",
       "    </tr>\n",
       "  </thead>\n",
       "  <tbody>\n",
       "    <tr>\n",
       "      <th>0</th>\n",
       "      <td>1</td>\n",
       "      <td>8</td>\n",
       "      <td>c</td>\n",
       "      <td>3</td>\n",
       "      <td>Z</td>\n",
       "      <td>3</td>\n",
       "      <td>radiotherapy</td>\n",
       "      <td>R</td>\n",
       "      <td>F</td>\n",
       "      <td>2.0</td>\n",
       "      <td>31397</td>\n",
       "      <td>7.0</td>\n",
       "      <td>Emergency</td>\n",
       "      <td>Extreme</td>\n",
       "      <td>2</td>\n",
       "      <td>51-60</td>\n",
       "      <td>4911</td>\n",
       "      <td>0-10</td>\n",
       "      <td>short</td>\n",
       "    </tr>\n",
       "    <tr>\n",
       "      <th>1</th>\n",
       "      <td>2</td>\n",
       "      <td>2</td>\n",
       "      <td>c</td>\n",
       "      <td>5</td>\n",
       "      <td>Z</td>\n",
       "      <td>2</td>\n",
       "      <td>radiotherapy</td>\n",
       "      <td>S</td>\n",
       "      <td>F</td>\n",
       "      <td>2.0</td>\n",
       "      <td>31397</td>\n",
       "      <td>7.0</td>\n",
       "      <td>Trauma</td>\n",
       "      <td>Extreme</td>\n",
       "      <td>2</td>\n",
       "      <td>51-60</td>\n",
       "      <td>5954</td>\n",
       "      <td>41-50</td>\n",
       "      <td>long</td>\n",
       "    </tr>\n",
       "    <tr>\n",
       "      <th>2</th>\n",
       "      <td>3</td>\n",
       "      <td>10</td>\n",
       "      <td>e</td>\n",
       "      <td>1</td>\n",
       "      <td>X</td>\n",
       "      <td>2</td>\n",
       "      <td>anesthesia</td>\n",
       "      <td>S</td>\n",
       "      <td>E</td>\n",
       "      <td>2.0</td>\n",
       "      <td>31397</td>\n",
       "      <td>7.0</td>\n",
       "      <td>Trauma</td>\n",
       "      <td>Extreme</td>\n",
       "      <td>2</td>\n",
       "      <td>51-60</td>\n",
       "      <td>4745</td>\n",
       "      <td>31-40</td>\n",
       "      <td>medium</td>\n",
       "    </tr>\n",
       "    <tr>\n",
       "      <th>3</th>\n",
       "      <td>4</td>\n",
       "      <td>26</td>\n",
       "      <td>b</td>\n",
       "      <td>2</td>\n",
       "      <td>Y</td>\n",
       "      <td>2</td>\n",
       "      <td>radiotherapy</td>\n",
       "      <td>R</td>\n",
       "      <td>D</td>\n",
       "      <td>2.0</td>\n",
       "      <td>31397</td>\n",
       "      <td>7.0</td>\n",
       "      <td>Trauma</td>\n",
       "      <td>Extreme</td>\n",
       "      <td>2</td>\n",
       "      <td>51-60</td>\n",
       "      <td>7272</td>\n",
       "      <td>41-50</td>\n",
       "      <td>long</td>\n",
       "    </tr>\n",
       "    <tr>\n",
       "      <th>4</th>\n",
       "      <td>5</td>\n",
       "      <td>26</td>\n",
       "      <td>b</td>\n",
       "      <td>2</td>\n",
       "      <td>Y</td>\n",
       "      <td>2</td>\n",
       "      <td>radiotherapy</td>\n",
       "      <td>S</td>\n",
       "      <td>D</td>\n",
       "      <td>2.0</td>\n",
       "      <td>31397</td>\n",
       "      <td>7.0</td>\n",
       "      <td>Trauma</td>\n",
       "      <td>Extreme</td>\n",
       "      <td>2</td>\n",
       "      <td>51-60</td>\n",
       "      <td>5558</td>\n",
       "      <td>41-50</td>\n",
       "      <td>long</td>\n",
       "    </tr>\n",
       "  </tbody>\n",
       "</table>\n",
       "</div>"
      ],
      "text/plain": [
       "   case_id Hospital_code Hospital_type_code City_Code_Hospital  \\\n",
       "0        1             8                  c                  3   \n",
       "1        2             2                  c                  5   \n",
       "2        3            10                  e                  1   \n",
       "3        4            26                  b                  2   \n",
       "4        5            26                  b                  2   \n",
       "\n",
       "  Hospital_region_code  Available Extra Rooms in Hospital    Department  \\\n",
       "0                    Z                                  3  radiotherapy   \n",
       "1                    Z                                  2  radiotherapy   \n",
       "2                    X                                  2    anesthesia   \n",
       "3                    Y                                  2  radiotherapy   \n",
       "4                    Y                                  2  radiotherapy   \n",
       "\n",
       "  Ward_Type Ward_Facility_Code Bed Grade  patientid  City_Code_Patient  \\\n",
       "0         R                  F       2.0      31397                7.0   \n",
       "1         S                  F       2.0      31397                7.0   \n",
       "2         S                  E       2.0      31397                7.0   \n",
       "3         R                  D       2.0      31397                7.0   \n",
       "4         S                  D       2.0      31397                7.0   \n",
       "\n",
       "  Type of Admission Severity of Illness  Visitors with Patient    Age  \\\n",
       "0         Emergency             Extreme                      2  51-60   \n",
       "1            Trauma             Extreme                      2  51-60   \n",
       "2            Trauma             Extreme                      2  51-60   \n",
       "3            Trauma             Extreme                      2  51-60   \n",
       "4            Trauma             Extreme                      2  51-60   \n",
       "\n",
       "   Admission_Deposit   Stay     LOS  \n",
       "0               4911   0-10   short  \n",
       "1               5954  41-50    long  \n",
       "2               4745  31-40  medium  \n",
       "3               7272  41-50    long  \n",
       "4               5558  41-50    long  "
      ]
     },
     "execution_count": 2,
     "metadata": {},
     "output_type": "execute_result"
    }
   ],
   "source": [
    "fileIn = \"C:\\\\Users\\\\patri\\\\OneDrive\\\\Projects\\\\pyton\\\\LOS\\\\data\\\\train_data.pkl\"\n",
    "df = pd.read_pickle(fileIn)\n",
    "df.head()"
   ]
  },
  {
   "cell_type": "code",
   "execution_count": 3,
   "id": "46e04141",
   "metadata": {},
   "outputs": [
    {
     "data": {
      "text/plain": [
       "Index(['case_id', 'Hospital_code', 'Hospital_type_code', 'City_Code_Hospital',\n",
       "       'Hospital_region_code', 'Available Extra Rooms in Hospital',\n",
       "       'Department', 'Ward_Type', 'Ward_Facility_Code', 'Bed Grade',\n",
       "       'patientid', 'City_Code_Patient', 'Type of Admission',\n",
       "       'Severity of Illness', 'Visitors with Patient', 'Age',\n",
       "       'Admission_Deposit', 'Stay', 'LOS'],\n",
       "      dtype='object')"
      ]
     },
     "execution_count": 3,
     "metadata": {},
     "output_type": "execute_result"
    }
   ],
   "source": [
    "df.columns"
   ]
  },
  {
   "cell_type": "markdown",
   "id": "97bcb77b",
   "metadata": {},
   "source": [
    "### severity of illness"
   ]
  },
  {
   "cell_type": "code",
   "execution_count": 4,
   "id": "fab7a599",
   "metadata": {},
   "outputs": [
    {
     "data": {
      "application/vnd.microsoft.datawrangler.viewer.v0+json": {
       "columns": [
        {
         "name": "index",
         "rawType": "int64",
         "type": "integer"
        },
        {
         "name": "Severity of Illness",
         "rawType": "category",
         "type": "unknown"
        },
        {
         "name": "City_Code_Hospital",
         "rawType": "category",
         "type": "unknown"
        },
        {
         "name": "Ward_Type",
         "rawType": "category",
         "type": "unknown"
        },
        {
         "name": "Type of Admission",
         "rawType": "category",
         "type": "unknown"
        },
        {
         "name": "Age",
         "rawType": "category",
         "type": "unknown"
        }
       ],
       "ref": "ce5b3519-de49-488d-aa0e-8edf52409118",
       "rows": [
        [
         "0",
         "Extreme",
         "3",
         "R",
         "Emergency",
         "51-60"
        ],
        [
         "1",
         "Extreme",
         "5",
         "S",
         "Trauma",
         "51-60"
        ],
        [
         "2",
         "Extreme",
         "1",
         "S",
         "Trauma",
         "51-60"
        ],
        [
         "3",
         "Extreme",
         "2",
         "R",
         "Trauma",
         "51-60"
        ],
        [
         "4",
         "Extreme",
         "2",
         "S",
         "Trauma",
         "51-60"
        ]
       ],
       "shape": {
        "columns": 5,
        "rows": 5
       }
      },
      "text/html": [
       "<div>\n",
       "<style scoped>\n",
       "    .dataframe tbody tr th:only-of-type {\n",
       "        vertical-align: middle;\n",
       "    }\n",
       "\n",
       "    .dataframe tbody tr th {\n",
       "        vertical-align: top;\n",
       "    }\n",
       "\n",
       "    .dataframe thead th {\n",
       "        text-align: right;\n",
       "    }\n",
       "</style>\n",
       "<table border=\"1\" class=\"dataframe\">\n",
       "  <thead>\n",
       "    <tr style=\"text-align: right;\">\n",
       "      <th></th>\n",
       "      <th>Severity of Illness</th>\n",
       "      <th>City_Code_Hospital</th>\n",
       "      <th>Ward_Type</th>\n",
       "      <th>Type of Admission</th>\n",
       "      <th>Age</th>\n",
       "    </tr>\n",
       "  </thead>\n",
       "  <tbody>\n",
       "    <tr>\n",
       "      <th>0</th>\n",
       "      <td>Extreme</td>\n",
       "      <td>3</td>\n",
       "      <td>R</td>\n",
       "      <td>Emergency</td>\n",
       "      <td>51-60</td>\n",
       "    </tr>\n",
       "    <tr>\n",
       "      <th>1</th>\n",
       "      <td>Extreme</td>\n",
       "      <td>5</td>\n",
       "      <td>S</td>\n",
       "      <td>Trauma</td>\n",
       "      <td>51-60</td>\n",
       "    </tr>\n",
       "    <tr>\n",
       "      <th>2</th>\n",
       "      <td>Extreme</td>\n",
       "      <td>1</td>\n",
       "      <td>S</td>\n",
       "      <td>Trauma</td>\n",
       "      <td>51-60</td>\n",
       "    </tr>\n",
       "    <tr>\n",
       "      <th>3</th>\n",
       "      <td>Extreme</td>\n",
       "      <td>2</td>\n",
       "      <td>R</td>\n",
       "      <td>Trauma</td>\n",
       "      <td>51-60</td>\n",
       "    </tr>\n",
       "    <tr>\n",
       "      <th>4</th>\n",
       "      <td>Extreme</td>\n",
       "      <td>2</td>\n",
       "      <td>S</td>\n",
       "      <td>Trauma</td>\n",
       "      <td>51-60</td>\n",
       "    </tr>\n",
       "  </tbody>\n",
       "</table>\n",
       "</div>"
      ],
      "text/plain": [
       "  Severity of Illness City_Code_Hospital Ward_Type Type of Admission    Age\n",
       "0             Extreme                  3         R         Emergency  51-60\n",
       "1             Extreme                  5         S            Trauma  51-60\n",
       "2             Extreme                  1         S            Trauma  51-60\n",
       "3             Extreme                  2         R            Trauma  51-60\n",
       "4             Extreme                  2         S            Trauma  51-60"
      ]
     },
     "execution_count": 4,
     "metadata": {},
     "output_type": "execute_result"
    }
   ],
   "source": [
    "independent_variables = ['Severity of Illness', 'City_Code_Hospital', 'Ward_Type', 'Type of Admission', 'Age']\n",
    "X = df[independent_variables]\n",
    "y = df['LOS']\n",
    "\n",
    "X.head()\n"
   ]
  },
  {
   "cell_type": "code",
   "execution_count": 5,
   "id": "ffcfe5ca",
   "metadata": {},
   "outputs": [
    {
     "data": {
      "text/plain": [
       "Index(['Severity of Illness', 'City_Code_Hospital', 'Ward_Type',\n",
       "       'Type of Admission', 'Age'],\n",
       "      dtype='object')"
      ]
     },
     "execution_count": 5,
     "metadata": {},
     "output_type": "execute_result"
    }
   ],
   "source": [
    "X.columns"
   ]
  },
  {
   "cell_type": "code",
   "execution_count": 6,
   "id": "a600e9d4",
   "metadata": {},
   "outputs": [
    {
     "data": {
      "application/vnd.microsoft.datawrangler.viewer.v0+json": {
       "columns": [
        {
         "name": "index",
         "rawType": "int64",
         "type": "integer"
        },
        {
         "name": "Severity of Illness_Extreme",
         "rawType": "bool",
         "type": "boolean"
        },
        {
         "name": "Severity of Illness_Minor",
         "rawType": "bool",
         "type": "boolean"
        },
        {
         "name": "Severity of Illness_Moderate",
         "rawType": "bool",
         "type": "boolean"
        },
        {
         "name": "City_Code_Hospital_1",
         "rawType": "bool",
         "type": "boolean"
        },
        {
         "name": "City_Code_Hospital_2",
         "rawType": "bool",
         "type": "boolean"
        },
        {
         "name": "City_Code_Hospital_3",
         "rawType": "bool",
         "type": "boolean"
        },
        {
         "name": "City_Code_Hospital_4",
         "rawType": "bool",
         "type": "boolean"
        },
        {
         "name": "City_Code_Hospital_5",
         "rawType": "bool",
         "type": "boolean"
        },
        {
         "name": "City_Code_Hospital_6",
         "rawType": "bool",
         "type": "boolean"
        },
        {
         "name": "City_Code_Hospital_7",
         "rawType": "bool",
         "type": "boolean"
        },
        {
         "name": "City_Code_Hospital_9",
         "rawType": "bool",
         "type": "boolean"
        },
        {
         "name": "City_Code_Hospital_10",
         "rawType": "bool",
         "type": "boolean"
        },
        {
         "name": "City_Code_Hospital_11",
         "rawType": "bool",
         "type": "boolean"
        },
        {
         "name": "City_Code_Hospital_13",
         "rawType": "bool",
         "type": "boolean"
        },
        {
         "name": "Ward_Type_P",
         "rawType": "bool",
         "type": "boolean"
        },
        {
         "name": "Ward_Type_Q",
         "rawType": "bool",
         "type": "boolean"
        },
        {
         "name": "Ward_Type_R",
         "rawType": "bool",
         "type": "boolean"
        },
        {
         "name": "Ward_Type_S",
         "rawType": "bool",
         "type": "boolean"
        },
        {
         "name": "Ward_Type_T",
         "rawType": "bool",
         "type": "boolean"
        },
        {
         "name": "Ward_Type_U",
         "rawType": "bool",
         "type": "boolean"
        },
        {
         "name": "Type of Admission_Emergency",
         "rawType": "bool",
         "type": "boolean"
        },
        {
         "name": "Type of Admission_Trauma",
         "rawType": "bool",
         "type": "boolean"
        },
        {
         "name": "Type of Admission_Urgent",
         "rawType": "bool",
         "type": "boolean"
        },
        {
         "name": "Age_0-10",
         "rawType": "bool",
         "type": "boolean"
        },
        {
         "name": "Age_11-20",
         "rawType": "bool",
         "type": "boolean"
        },
        {
         "name": "Age_21-30",
         "rawType": "bool",
         "type": "boolean"
        },
        {
         "name": "Age_31-40",
         "rawType": "bool",
         "type": "boolean"
        },
        {
         "name": "Age_41-50",
         "rawType": "bool",
         "type": "boolean"
        },
        {
         "name": "Age_51-60",
         "rawType": "bool",
         "type": "boolean"
        },
        {
         "name": "Age_61-70",
         "rawType": "bool",
         "type": "boolean"
        },
        {
         "name": "Age_71-80",
         "rawType": "bool",
         "type": "boolean"
        },
        {
         "name": "Age_81-90",
         "rawType": "bool",
         "type": "boolean"
        },
        {
         "name": "Age_91-100",
         "rawType": "bool",
         "type": "boolean"
        }
       ],
       "ref": "64cac3dc-3dc7-4fd9-af2b-acfe2489ae17",
       "rows": [
        [
         "0",
         "True",
         "False",
         "False",
         "False",
         "False",
         "True",
         "False",
         "False",
         "False",
         "False",
         "False",
         "False",
         "False",
         "False",
         "False",
         "False",
         "True",
         "False",
         "False",
         "False",
         "True",
         "False",
         "False",
         "False",
         "False",
         "False",
         "False",
         "False",
         "True",
         "False",
         "False",
         "False",
         "False"
        ],
        [
         "1",
         "True",
         "False",
         "False",
         "False",
         "False",
         "False",
         "False",
         "True",
         "False",
         "False",
         "False",
         "False",
         "False",
         "False",
         "False",
         "False",
         "False",
         "True",
         "False",
         "False",
         "False",
         "True",
         "False",
         "False",
         "False",
         "False",
         "False",
         "False",
         "True",
         "False",
         "False",
         "False",
         "False"
        ],
        [
         "2",
         "True",
         "False",
         "False",
         "True",
         "False",
         "False",
         "False",
         "False",
         "False",
         "False",
         "False",
         "False",
         "False",
         "False",
         "False",
         "False",
         "False",
         "True",
         "False",
         "False",
         "False",
         "True",
         "False",
         "False",
         "False",
         "False",
         "False",
         "False",
         "True",
         "False",
         "False",
         "False",
         "False"
        ],
        [
         "3",
         "True",
         "False",
         "False",
         "False",
         "True",
         "False",
         "False",
         "False",
         "False",
         "False",
         "False",
         "False",
         "False",
         "False",
         "False",
         "False",
         "True",
         "False",
         "False",
         "False",
         "False",
         "True",
         "False",
         "False",
         "False",
         "False",
         "False",
         "False",
         "True",
         "False",
         "False",
         "False",
         "False"
        ],
        [
         "4",
         "True",
         "False",
         "False",
         "False",
         "True",
         "False",
         "False",
         "False",
         "False",
         "False",
         "False",
         "False",
         "False",
         "False",
         "False",
         "False",
         "False",
         "True",
         "False",
         "False",
         "False",
         "True",
         "False",
         "False",
         "False",
         "False",
         "False",
         "False",
         "True",
         "False",
         "False",
         "False",
         "False"
        ]
       ],
       "shape": {
        "columns": 33,
        "rows": 5
       }
      },
      "text/html": [
       "<div>\n",
       "<style scoped>\n",
       "    .dataframe tbody tr th:only-of-type {\n",
       "        vertical-align: middle;\n",
       "    }\n",
       "\n",
       "    .dataframe tbody tr th {\n",
       "        vertical-align: top;\n",
       "    }\n",
       "\n",
       "    .dataframe thead th {\n",
       "        text-align: right;\n",
       "    }\n",
       "</style>\n",
       "<table border=\"1\" class=\"dataframe\">\n",
       "  <thead>\n",
       "    <tr style=\"text-align: right;\">\n",
       "      <th></th>\n",
       "      <th>Severity of Illness_Extreme</th>\n",
       "      <th>Severity of Illness_Minor</th>\n",
       "      <th>Severity of Illness_Moderate</th>\n",
       "      <th>City_Code_Hospital_1</th>\n",
       "      <th>City_Code_Hospital_2</th>\n",
       "      <th>City_Code_Hospital_3</th>\n",
       "      <th>City_Code_Hospital_4</th>\n",
       "      <th>City_Code_Hospital_5</th>\n",
       "      <th>City_Code_Hospital_6</th>\n",
       "      <th>City_Code_Hospital_7</th>\n",
       "      <th>...</th>\n",
       "      <th>Age_0-10</th>\n",
       "      <th>Age_11-20</th>\n",
       "      <th>Age_21-30</th>\n",
       "      <th>Age_31-40</th>\n",
       "      <th>Age_41-50</th>\n",
       "      <th>Age_51-60</th>\n",
       "      <th>Age_61-70</th>\n",
       "      <th>Age_71-80</th>\n",
       "      <th>Age_81-90</th>\n",
       "      <th>Age_91-100</th>\n",
       "    </tr>\n",
       "  </thead>\n",
       "  <tbody>\n",
       "    <tr>\n",
       "      <th>0</th>\n",
       "      <td>True</td>\n",
       "      <td>False</td>\n",
       "      <td>False</td>\n",
       "      <td>False</td>\n",
       "      <td>False</td>\n",
       "      <td>True</td>\n",
       "      <td>False</td>\n",
       "      <td>False</td>\n",
       "      <td>False</td>\n",
       "      <td>False</td>\n",
       "      <td>...</td>\n",
       "      <td>False</td>\n",
       "      <td>False</td>\n",
       "      <td>False</td>\n",
       "      <td>False</td>\n",
       "      <td>False</td>\n",
       "      <td>True</td>\n",
       "      <td>False</td>\n",
       "      <td>False</td>\n",
       "      <td>False</td>\n",
       "      <td>False</td>\n",
       "    </tr>\n",
       "    <tr>\n",
       "      <th>1</th>\n",
       "      <td>True</td>\n",
       "      <td>False</td>\n",
       "      <td>False</td>\n",
       "      <td>False</td>\n",
       "      <td>False</td>\n",
       "      <td>False</td>\n",
       "      <td>False</td>\n",
       "      <td>True</td>\n",
       "      <td>False</td>\n",
       "      <td>False</td>\n",
       "      <td>...</td>\n",
       "      <td>False</td>\n",
       "      <td>False</td>\n",
       "      <td>False</td>\n",
       "      <td>False</td>\n",
       "      <td>False</td>\n",
       "      <td>True</td>\n",
       "      <td>False</td>\n",
       "      <td>False</td>\n",
       "      <td>False</td>\n",
       "      <td>False</td>\n",
       "    </tr>\n",
       "    <tr>\n",
       "      <th>2</th>\n",
       "      <td>True</td>\n",
       "      <td>False</td>\n",
       "      <td>False</td>\n",
       "      <td>True</td>\n",
       "      <td>False</td>\n",
       "      <td>False</td>\n",
       "      <td>False</td>\n",
       "      <td>False</td>\n",
       "      <td>False</td>\n",
       "      <td>False</td>\n",
       "      <td>...</td>\n",
       "      <td>False</td>\n",
       "      <td>False</td>\n",
       "      <td>False</td>\n",
       "      <td>False</td>\n",
       "      <td>False</td>\n",
       "      <td>True</td>\n",
       "      <td>False</td>\n",
       "      <td>False</td>\n",
       "      <td>False</td>\n",
       "      <td>False</td>\n",
       "    </tr>\n",
       "    <tr>\n",
       "      <th>3</th>\n",
       "      <td>True</td>\n",
       "      <td>False</td>\n",
       "      <td>False</td>\n",
       "      <td>False</td>\n",
       "      <td>True</td>\n",
       "      <td>False</td>\n",
       "      <td>False</td>\n",
       "      <td>False</td>\n",
       "      <td>False</td>\n",
       "      <td>False</td>\n",
       "      <td>...</td>\n",
       "      <td>False</td>\n",
       "      <td>False</td>\n",
       "      <td>False</td>\n",
       "      <td>False</td>\n",
       "      <td>False</td>\n",
       "      <td>True</td>\n",
       "      <td>False</td>\n",
       "      <td>False</td>\n",
       "      <td>False</td>\n",
       "      <td>False</td>\n",
       "    </tr>\n",
       "    <tr>\n",
       "      <th>4</th>\n",
       "      <td>True</td>\n",
       "      <td>False</td>\n",
       "      <td>False</td>\n",
       "      <td>False</td>\n",
       "      <td>True</td>\n",
       "      <td>False</td>\n",
       "      <td>False</td>\n",
       "      <td>False</td>\n",
       "      <td>False</td>\n",
       "      <td>False</td>\n",
       "      <td>...</td>\n",
       "      <td>False</td>\n",
       "      <td>False</td>\n",
       "      <td>False</td>\n",
       "      <td>False</td>\n",
       "      <td>False</td>\n",
       "      <td>True</td>\n",
       "      <td>False</td>\n",
       "      <td>False</td>\n",
       "      <td>False</td>\n",
       "      <td>False</td>\n",
       "    </tr>\n",
       "  </tbody>\n",
       "</table>\n",
       "<p>5 rows × 33 columns</p>\n",
       "</div>"
      ],
      "text/plain": [
       "   Severity of Illness_Extreme  Severity of Illness_Minor  \\\n",
       "0                         True                      False   \n",
       "1                         True                      False   \n",
       "2                         True                      False   \n",
       "3                         True                      False   \n",
       "4                         True                      False   \n",
       "\n",
       "   Severity of Illness_Moderate  City_Code_Hospital_1  City_Code_Hospital_2  \\\n",
       "0                         False                 False                 False   \n",
       "1                         False                 False                 False   \n",
       "2                         False                  True                 False   \n",
       "3                         False                 False                  True   \n",
       "4                         False                 False                  True   \n",
       "\n",
       "   City_Code_Hospital_3  City_Code_Hospital_4  City_Code_Hospital_5  \\\n",
       "0                  True                 False                 False   \n",
       "1                 False                 False                  True   \n",
       "2                 False                 False                 False   \n",
       "3                 False                 False                 False   \n",
       "4                 False                 False                 False   \n",
       "\n",
       "   City_Code_Hospital_6  City_Code_Hospital_7  ...  Age_0-10  Age_11-20  \\\n",
       "0                 False                 False  ...     False      False   \n",
       "1                 False                 False  ...     False      False   \n",
       "2                 False                 False  ...     False      False   \n",
       "3                 False                 False  ...     False      False   \n",
       "4                 False                 False  ...     False      False   \n",
       "\n",
       "   Age_21-30  Age_31-40  Age_41-50  Age_51-60  Age_61-70  Age_71-80  \\\n",
       "0      False      False      False       True      False      False   \n",
       "1      False      False      False       True      False      False   \n",
       "2      False      False      False       True      False      False   \n",
       "3      False      False      False       True      False      False   \n",
       "4      False      False      False       True      False      False   \n",
       "\n",
       "   Age_81-90  Age_91-100  \n",
       "0      False       False  \n",
       "1      False       False  \n",
       "2      False       False  \n",
       "3      False       False  \n",
       "4      False       False  \n",
       "\n",
       "[5 rows x 33 columns]"
      ]
     },
     "execution_count": 6,
     "metadata": {},
     "output_type": "execute_result"
    }
   ],
   "source": [
    "dummy_dimensions = ['Severity of Illness', 'City_Code_Hospital', 'Ward_Type', 'Type of Admission', 'Age']\n",
    "X = pd.get_dummies(X, columns=dummy_dimensions)\n",
    "X.head()"
   ]
  },
  {
   "cell_type": "code",
   "execution_count": 7,
   "id": "c1076b37",
   "metadata": {},
   "outputs": [
    {
     "name": "stdout",
     "output_type": "stream",
     "text": [
      "Index(['Severity of Illness_Extreme', 'Severity of Illness_Minor',\n",
      "       'Severity of Illness_Moderate', 'City_Code_Hospital_1',\n",
      "       'City_Code_Hospital_2', 'City_Code_Hospital_3', 'City_Code_Hospital_4',\n",
      "       'City_Code_Hospital_5', 'City_Code_Hospital_6', 'City_Code_Hospital_7',\n",
      "       'City_Code_Hospital_9', 'City_Code_Hospital_10',\n",
      "       'City_Code_Hospital_11', 'City_Code_Hospital_13', 'Ward_Type_P',\n",
      "       'Ward_Type_Q', 'Ward_Type_R', 'Ward_Type_S', 'Ward_Type_T',\n",
      "       'Ward_Type_U', 'Type of Admission_Emergency',\n",
      "       'Type of Admission_Trauma', 'Type of Admission_Urgent', 'Age_0-10',\n",
      "       'Age_11-20', 'Age_21-30', 'Age_31-40', 'Age_41-50', 'Age_51-60',\n",
      "       'Age_61-70', 'Age_71-80', 'Age_81-90', 'Age_91-100'],\n",
      "      dtype='object')\n",
      "(318438, 33)\n"
     ]
    }
   ],
   "source": [
    "print(X.columns) \n",
    "print(X.shape)"
   ]
  },
  {
   "cell_type": "code",
   "execution_count": 8,
   "id": "6b27cc16",
   "metadata": {},
   "outputs": [
    {
     "data": {
      "text/plain": [
       "(318438, 33)"
      ]
     },
     "execution_count": 8,
     "metadata": {},
     "output_type": "execute_result"
    }
   ],
   "source": [
    "X.shape"
   ]
  },
  {
   "cell_type": "markdown",
   "id": "fa044a4b",
   "metadata": {},
   "source": [
    "### Split the data "
   ]
  },
  {
   "cell_type": "code",
   "execution_count": 9,
   "id": "ecda24c3",
   "metadata": {},
   "outputs": [],
   "source": [
    "X_train, X_test, y_train, y_test = train_test_split(X, y, test_size=0.3, random_state=123)"
   ]
  },
  {
   "cell_type": "markdown",
   "id": "3b4240f6",
   "metadata": {},
   "source": [
    "### Train the model"
   ]
  },
  {
   "cell_type": "code",
   "execution_count": 10,
   "id": "66b95bc2",
   "metadata": {},
   "outputs": [],
   "source": [
    "model = LogisticRegression(solver='liblinear', random_state=123)\n",
    "fitted_model = model.fit(X_train, y_train)"
   ]
  },
  {
   "cell_type": "markdown",
   "id": "3e1dbe43",
   "metadata": {},
   "source": [
    "### Measure the Model"
   ]
  },
  {
   "cell_type": "code",
   "execution_count": 11,
   "id": "f743cca7",
   "metadata": {},
   "outputs": [
    {
     "name": "stdout",
     "output_type": "stream",
     "text": [
      "Model Accuracy: 0.47128710798475903\n"
     ]
    }
   ],
   "source": [
    "# Make predictions on the test set\n",
    "y_pred = fitted_model.predict(X_test)\n",
    "\n",
    "# Evaluate the model\n",
    "accuracy = accuracy_score(y_test, y_pred)\n",
    "print(f\"Model Accuracy: {accuracy}\")"
   ]
  }
 ],
 "metadata": {
  "kernelspec": {
   "display_name": "base",
   "language": "python",
   "name": "python3"
  },
  "language_info": {
   "codemirror_mode": {
    "name": "ipython",
    "version": 3
   },
   "file_extension": ".py",
   "mimetype": "text/x-python",
   "name": "python",
   "nbconvert_exporter": "python",
   "pygments_lexer": "ipython3",
   "version": "3.12.7"
  }
 },
 "nbformat": 4,
 "nbformat_minor": 5
}
